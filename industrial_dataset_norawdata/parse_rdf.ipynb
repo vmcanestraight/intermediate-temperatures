{
 "cells": [
  {
   "cell_type": "code",
   "execution_count": 1,
   "metadata": {},
   "outputs": [],
   "source": [
    "import re\n",
    "import pandas as pd\n",
    "import os"
   ]
  },
  {
   "cell_type": "markdown",
   "metadata": {},
   "source": [
    "# S1.1.3 Patent Data Extraction RTF\n",
    "\n",
    "Code in this file was written primarily ChatGPT with careful prompting and editing by VMC. LLMs excel at writing simple code such as extracting data from structured text files.}"
   ]
  },
  {
   "cell_type": "code",
   "execution_count": 2,
   "metadata": {},
   "outputs": [],
   "source": [
    "def read_rdf_file(file_path):\n",
    "    with open(file_path, 'r', encoding='utf-8') as file:\n",
    "        rdf_content = file.read()\n",
    "    return rdf_content\n",
    "\n",
    "def extract_patent_number(text):\n",
    "    # Regex patterns for both \"United States\" and \"World Intellectual Property Organization\"\n",
    "    us_pattern = r\"United States,\\s*(US[A-Z0-9]+)\\s\"\n",
    "    world_pattern = r\"World Intellectual Property Organization,\\s*(WO[A-Z0-9]+)\\s\"\n",
    "    \n",
    "    # Search for \"United States\" pattern\n",
    "    us_match = re.search(us_pattern, text)\n",
    "    if us_match:\n",
    "        return us_match.group(1)  # Return the patent number for \"United States\"\n",
    "    \n",
    "    # Search for \"World Intellectual Property Organization\" pattern\n",
    "    world_match = re.search(world_pattern, text)\n",
    "    if world_match:\n",
    "        return world_match.group(1)  # Return the patent number for \"World Intellectual Property Organization\"\n",
    "    \n",
    "    # Return None if no patent number is found\n",
    "    return None\n",
    "\n",
    "def extract_reaction_components(text):\n",
    "    # Regex patterns for reactants and products\n",
    "    reactants_pattern = r'\\$DTYPE RXN:RCT\\(\\d+\\):CAS_RN\\s*\\$DATUM\\s*([\\d\\-]+)'\n",
    "    products_pattern = r'\\$DTYPE RXN:PRO\\(\\d+\\):CAS_RN\\s*\\$DATUM\\s*([\\d\\-]+)'\n",
    "    \n",
    "    # Find all reactants\n",
    "    reactants = re.findall(reactants_pattern, text)\n",
    "    \n",
    "    # Find all products\n",
    "    products = re.findall(products_pattern, text)\n",
    "    \n",
    "    return {\n",
    "        'reactants': reactants,\n",
    "        'products': products\n",
    "    }\n",
    "\n",
    "def extract_reagents(text):\n",
    "    # Regex pattern for reagents\n",
    "    reagents_pattern = r'\\$DTYPE RXN:VAR\\(\\d+\\):RGT\\(\\d+\\):CAS_RN\\s*\\$DATUM\\s*([\\d\\-]+)'\n",
    "    \n",
    "    # Find all reagents\n",
    "    reagents = re.findall(reagents_pattern, text)\n",
    "    \n",
    "    return reagents\n"
   ]
  },
  {
   "cell_type": "code",
   "execution_count": null,
   "metadata": {},
   "outputs": [],
   "source": [
    "def rdf_to_dataframe(rdf_filename):\n",
    "    rdf_filename = \"rdfs/\"+rdf_filename\n",
    "\n",
    "    # Read the RTF file\n",
    "    text = read_rdf_file(rdf_filename)\n",
    "\n",
    "    entries = text.split('$RXN')\n",
    "    output = []\n",
    "\n",
    "    for entry in entries[1:]:\n",
    "        reactandprod = extract_reaction_components(entry)\n",
    "        output.append({'patent_number' : extract_patent_number(entry),\n",
    "                    'reagant_cas' : extract_reagents(entry),\n",
    "                    'reactants' : reactandprod['reactants'],\n",
    "                    'products' : reactandprod['products']})\n",
    "        \n",
    "    df = pd.DataFrame(output)\n",
    "    return df\n"
   ]
  },
  {
   "cell_type": "code",
   "execution_count": 4,
   "metadata": {},
   "outputs": [],
   "source": [
    "def augment_excel(rdf_filename):\n",
    "    cas = rdf_filename.replace('.rdf', '')\n",
    "    excel_filename = 'parsed_dataframes/'+cas+'.xlsx'\n",
    "    \n",
    "    rxndf = rdf_to_dataframe(rdf_filename)\n",
    "    proceduredf = pd.read_excel(excel_filename)\n",
    "    proceduredf=proceduredf.drop(columns = ['reagant_cas', 'products', 'reactants'], errors = 'ignore')\n",
    "\n",
    "    merged_df = pd.merge(proceduredf, rxndf, on = 'patent_number', how = 'outer').drop(columns = ['Unnamed: 0', 'Unnamed: 0.1'], errors='ignore')\n",
    "    merged_df.to_excel(excel_filename)"
   ]
  },
  {
   "cell_type": "code",
   "execution_count": 5,
   "metadata": {},
   "outputs": [],
   "source": [
    "def list_files_in_folder(folder_path):\n",
    "    # List all files in the specified folder\n",
    "    file_names = [f for f in os.listdir(folder_path) if os.path.isfile(os.path.join(folder_path, f))]\n",
    "    return file_names\n",
    "\n",
    "\n",
    "folder_path = 'rdfs'\n",
    "files = list_files_in_folder(folder_path)\n",
    "\n",
    "\n",
    "\n",
    "for file in files:\n",
    "    augment_excel(file)"
   ]
  }
 ],
 "metadata": {
  "kernelspec": {
   "display_name": "canestraightetal",
   "language": "python",
   "name": "python3"
  },
  "language_info": {
   "codemirror_mode": {
    "name": "ipython",
    "version": 3
   },
   "file_extension": ".py",
   "mimetype": "text/x-python",
   "name": "python",
   "nbconvert_exporter": "python",
   "pygments_lexer": "ipython3",
   "version": "3.13.5"
  }
 },
 "nbformat": 4,
 "nbformat_minor": 2
}
