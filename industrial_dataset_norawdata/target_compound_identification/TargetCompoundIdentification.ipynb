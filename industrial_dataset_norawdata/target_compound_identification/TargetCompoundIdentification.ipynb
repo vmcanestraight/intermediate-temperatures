{
 "cells": [
  {
   "cell_type": "code",
   "execution_count": 4,
   "metadata": {},
   "outputs": [],
   "source": [
    "import pandas as pd"
   ]
  },
  {
   "cell_type": "markdown",
   "metadata": {},
   "source": [
    "# S1.1.1 Target Compound Selection\n",
    "\n",
    "To identify interesting small organic targets for our analysis, the EPA's 2020 Chemical Data Reporting must first be cleaned and filtered.\n",
    "\n",
    "1. [EPA CDR Data Loading Loading](#epa-cdr-data-loading)\n",
    "2. [Removing Entries Without CAS Numbers](#removing-entries-without-cas-numbers)\n",
    "3. [Dropping Unnecessary Columns](#dropping-unnecessary-columns)\n",
    "4. [Converting Production Volume to Numeric](#converting-production-volume-strings-to-values)\n",
    "5. [Grouping Entries](#grouping-entries)\n",
    "6. [Filtering out Aggregate Categories](#filtering-by-category)\n",
    "7. [Exporting Data](#exporting-sorted-and-filtered-data)\n"
   ]
  },
  {
   "cell_type": "markdown",
   "metadata": {},
   "source": [
    "#### EPA CDR Data Loading"
   ]
  },
  {
   "cell_type": "code",
   "execution_count": 12,
   "metadata": {},
   "outputs": [
    {
     "data": {
      "text/html": [
       "<div>\n",
       "<style scoped>\n",
       "    .dataframe tbody tr th:only-of-type {\n",
       "        vertical-align: middle;\n",
       "    }\n",
       "\n",
       "    .dataframe tbody tr th {\n",
       "        vertical-align: top;\n",
       "    }\n",
       "\n",
       "    .dataframe thead th {\n",
       "        text-align: right;\n",
       "    }\n",
       "</style>\n",
       "<table border=\"1\" class=\"dataframe\">\n",
       "  <thead>\n",
       "    <tr style=\"text-align: right;\">\n",
       "      <th></th>\n",
       "      <th>CHEMICAL REPORT ID</th>\n",
       "      <th>CHEMICAL NAME</th>\n",
       "      <th>CHEMICAL ID</th>\n",
       "      <th>CHEMICAL ID W/O DASHES</th>\n",
       "      <th>CHEMICAL ID TYPE</th>\n",
       "      <th>DOMESTIC PARENT COMPANY NAME</th>\n",
       "      <th>DOMESTIC PC ADDRESS LINE1</th>\n",
       "      <th>DOMESTIC PC ADDRESS LINE2</th>\n",
       "      <th>DOMESTIC PC CITY</th>\n",
       "      <th>DOMESTIC PC COUNTY / PARISH</th>\n",
       "      <th>...</th>\n",
       "      <th>PERCENT BYPRODUCT</th>\n",
       "      <th>WORKERS CODE</th>\n",
       "      <th>WORKERS</th>\n",
       "      <th>MAX CONC CODE</th>\n",
       "      <th>MAXIMUM CONCENTRATION</th>\n",
       "      <th>RECYCLED</th>\n",
       "      <th>PHYSICAL FORM(S)</th>\n",
       "      <th>JOINT FC CODE</th>\n",
       "      <th>JOINT FUNCTION CATEGORY</th>\n",
       "      <th>JOINT FUNCT CAT OTHER DESC</th>\n",
       "    </tr>\n",
       "  </thead>\n",
       "  <tbody>\n",
       "    <tr>\n",
       "      <th>0</th>\n",
       "      <td>711448</td>\n",
       "      <td>(Polyisobutenyl)dihydro-2,5-furandione esters ...</td>\n",
       "      <td>18849</td>\n",
       "      <td>18849</td>\n",
       "      <td>Accession Number</td>\n",
       "      <td>CBI</td>\n",
       "      <td>CBI</td>\n",
       "      <td>CBI</td>\n",
       "      <td>CBI</td>\n",
       "      <td>CBI</td>\n",
       "      <td>...</td>\n",
       "      <td>0</td>\n",
       "      <td>W1</td>\n",
       "      <td>&lt; 10</td>\n",
       "      <td>M3</td>\n",
       "      <td>30% – &lt; 60%</td>\n",
       "      <td>No</td>\n",
       "      <td>Liquid</td>\n",
       "      <td>NaN</td>\n",
       "      <td>NaN</td>\n",
       "      <td>NaN</td>\n",
       "    </tr>\n",
       "    <tr>\n",
       "      <th>1</th>\n",
       "      <td>728903</td>\n",
       "      <td>(Polyisobutenyl)dihydro-2,5-furandione esters ...</td>\n",
       "      <td>18849</td>\n",
       "      <td>18849</td>\n",
       "      <td>Accession Number</td>\n",
       "      <td>CBI</td>\n",
       "      <td>CBI</td>\n",
       "      <td>CBI</td>\n",
       "      <td>CBI</td>\n",
       "      <td>CBI</td>\n",
       "      <td>...</td>\n",
       "      <td>0</td>\n",
       "      <td>W4</td>\n",
       "      <td>50 – 99</td>\n",
       "      <td>M4</td>\n",
       "      <td>60% – &lt; 90%</td>\n",
       "      <td>No</td>\n",
       "      <td>Liquid</td>\n",
       "      <td>NaN</td>\n",
       "      <td>NaN</td>\n",
       "      <td>NaN</td>\n",
       "    </tr>\n",
       "    <tr>\n",
       "      <th>2</th>\n",
       "      <td>702175</td>\n",
       "      <td>(Polyisobutenyl)dihydro-2,5-furandione esters ...</td>\n",
       "      <td>18849</td>\n",
       "      <td>18849</td>\n",
       "      <td>Accession Number</td>\n",
       "      <td>CBI</td>\n",
       "      <td>CBI</td>\n",
       "      <td>CBI</td>\n",
       "      <td>CBI</td>\n",
       "      <td>CBI</td>\n",
       "      <td>...</td>\n",
       "      <td>CBI</td>\n",
       "      <td>W1</td>\n",
       "      <td>&lt; 10</td>\n",
       "      <td>CBI</td>\n",
       "      <td>CBI</td>\n",
       "      <td>No</td>\n",
       "      <td>Liquid</td>\n",
       "      <td>NaN</td>\n",
       "      <td>NaN</td>\n",
       "      <td>NaN</td>\n",
       "    </tr>\n",
       "    <tr>\n",
       "      <th>3</th>\n",
       "      <td>704950</td>\n",
       "      <td>(Polyisobutenyl)dihydro-2,5-furandione esters ...</td>\n",
       "      <td>18849</td>\n",
       "      <td>18849</td>\n",
       "      <td>Accession Number</td>\n",
       "      <td>IDEMITSU LUBRICANTS AMERICA</td>\n",
       "      <td>701 PORT RD</td>\n",
       "      <td>NaN</td>\n",
       "      <td>JEFFERSONVILLE</td>\n",
       "      <td>Clark</td>\n",
       "      <td>...</td>\n",
       "      <td>0</td>\n",
       "      <td>W3</td>\n",
       "      <td>25 – 49</td>\n",
       "      <td>M2</td>\n",
       "      <td>1% – &lt; 30%</td>\n",
       "      <td>No</td>\n",
       "      <td>Liquid</td>\n",
       "      <td>NaN</td>\n",
       "      <td>NaN</td>\n",
       "      <td>NaN</td>\n",
       "    </tr>\n",
       "    <tr>\n",
       "      <th>4</th>\n",
       "      <td>735410</td>\n",
       "      <td>(Polyisobutenyl)dihydro-2,5-furandione reactio...</td>\n",
       "      <td>24103</td>\n",
       "      <td>24103</td>\n",
       "      <td>Accession Number</td>\n",
       "      <td>CBI</td>\n",
       "      <td>CBI</td>\n",
       "      <td>CBI</td>\n",
       "      <td>CBI</td>\n",
       "      <td>CBI</td>\n",
       "      <td>...</td>\n",
       "      <td>0</td>\n",
       "      <td>W5</td>\n",
       "      <td>100 – 499</td>\n",
       "      <td>M3</td>\n",
       "      <td>30% – &lt; 60%</td>\n",
       "      <td>No</td>\n",
       "      <td>Liquid</td>\n",
       "      <td>NaN</td>\n",
       "      <td>NaN</td>\n",
       "      <td>NaN</td>\n",
       "    </tr>\n",
       "  </tbody>\n",
       "</table>\n",
       "<p>5 rows × 64 columns</p>\n",
       "</div>"
      ],
      "text/plain": [
       "   CHEMICAL REPORT ID                                      CHEMICAL NAME  \\\n",
       "0              711448  (Polyisobutenyl)dihydro-2,5-furandione esters ...   \n",
       "1              728903  (Polyisobutenyl)dihydro-2,5-furandione esters ...   \n",
       "2              702175  (Polyisobutenyl)dihydro-2,5-furandione esters ...   \n",
       "3              704950  (Polyisobutenyl)dihydro-2,5-furandione esters ...   \n",
       "4              735410  (Polyisobutenyl)dihydro-2,5-furandione reactio...   \n",
       "\n",
       "  CHEMICAL ID  CHEMICAL ID W/O DASHES  CHEMICAL ID TYPE  \\\n",
       "0       18849                   18849  Accession Number   \n",
       "1       18849                   18849  Accession Number   \n",
       "2       18849                   18849  Accession Number   \n",
       "3       18849                   18849  Accession Number   \n",
       "4       24103                   24103  Accession Number   \n",
       "\n",
       "  DOMESTIC PARENT COMPANY NAME DOMESTIC PC ADDRESS LINE1  \\\n",
       "0                          CBI                       CBI   \n",
       "1                          CBI                       CBI   \n",
       "2                          CBI                       CBI   \n",
       "3  IDEMITSU LUBRICANTS AMERICA               701 PORT RD   \n",
       "4                          CBI                       CBI   \n",
       "\n",
       "  DOMESTIC PC ADDRESS LINE2 DOMESTIC PC CITY DOMESTIC PC COUNTY / PARISH  ...  \\\n",
       "0                       CBI              CBI                         CBI  ...   \n",
       "1                       CBI              CBI                         CBI  ...   \n",
       "2                       CBI              CBI                         CBI  ...   \n",
       "3                       NaN   JEFFERSONVILLE                       Clark  ...   \n",
       "4                       CBI              CBI                         CBI  ...   \n",
       "\n",
       "  PERCENT BYPRODUCT WORKERS CODE    WORKERS MAX CONC CODE  \\\n",
       "0                 0           W1       < 10            M3   \n",
       "1                 0           W4    50 – 99            M4   \n",
       "2               CBI           W1       < 10           CBI   \n",
       "3                 0           W3    25 – 49            M2   \n",
       "4                 0           W5  100 – 499            M3   \n",
       "\n",
       "  MAXIMUM CONCENTRATION RECYCLED PHYSICAL FORM(S) JOINT FC CODE  \\\n",
       "0           30% – < 60%       No           Liquid           NaN   \n",
       "1           60% – < 90%       No           Liquid           NaN   \n",
       "2                   CBI       No           Liquid           NaN   \n",
       "3            1% – < 30%       No           Liquid           NaN   \n",
       "4           30% – < 60%       No           Liquid           NaN   \n",
       "\n",
       "  JOINT FUNCTION CATEGORY JOINT FUNCT CAT OTHER DESC  \n",
       "0                     NaN                        NaN  \n",
       "1                     NaN                        NaN  \n",
       "2                     NaN                        NaN  \n",
       "3                     NaN                        NaN  \n",
       "4                     NaN                        NaN  \n",
       "\n",
       "[5 rows x 64 columns]"
      ]
     },
     "execution_count": 12,
     "metadata": {},
     "output_type": "execute_result"
    }
   ],
   "source": [
    "df = pd.read_excel(\"2020 CDR Manufacture-Import Information.xlsx\")\n",
    "df.head()"
   ]
  },
  {
   "cell_type": "markdown",
   "metadata": {},
   "source": [
    "#### Removing Entries Without CAS Numbers"
   ]
  },
  {
   "cell_type": "code",
   "execution_count": 13,
   "metadata": {},
   "outputs": [
    {
     "name": "stdout",
     "output_type": "stream",
     "text": [
      "% of entries lost:  0.019916745245049564\n"
     ]
    }
   ],
   "source": [
    "original_length = len(df)\n",
    "df_cas = df[df['CHEMICAL ID TYPE']==\"CASRN\"]\n",
    "length_wo_CAS = len(df_cas)\n",
    "pct_lost = -(length_wo_CAS-original_length)/original_length\n",
    "\n",
    "print(\"% of entries lost: \", pct_lost)"
   ]
  },
  {
   "cell_type": "markdown",
   "metadata": {},
   "source": [
    "#### Dropping Unnecessary Columns"
   ]
  },
  {
   "cell_type": "code",
   "execution_count": 17,
   "metadata": {},
   "outputs": [],
   "source": [
    "df2 = df_cas[[\"CHEMICAL ID\", \"CHEMICAL NAME\", \"2019 NATIONALLY AGGREGATED PV\"]].copy()\n",
    "df2.columns=[\"CAS\", \"Name\", \"Production\"]"
   ]
  },
  {
   "cell_type": "markdown",
   "metadata": {},
   "source": [
    "#### Converting Production Volume Strings to Values\n",
    "\n",
    "The original dataframe provides production volume as a string with a range. Here, we split the ranges into low and high production estimates, clean up strings, and ensure they are numeric values."
   ]
  },
  {
   "cell_type": "code",
   "execution_count": 19,
   "metadata": {},
   "outputs": [
    {
     "data": {
      "text/html": [
       "<div>\n",
       "<style scoped>\n",
       "    .dataframe tbody tr th:only-of-type {\n",
       "        vertical-align: middle;\n",
       "    }\n",
       "\n",
       "    .dataframe tbody tr th {\n",
       "        vertical-align: top;\n",
       "    }\n",
       "\n",
       "    .dataframe thead th {\n",
       "        text-align: right;\n",
       "    }\n",
       "</style>\n",
       "<table border=\"1\" class=\"dataframe\">\n",
       "  <thead>\n",
       "    <tr style=\"text-align: right;\">\n",
       "      <th></th>\n",
       "      <th>CAS</th>\n",
       "      <th>Name</th>\n",
       "      <th>Low Production</th>\n",
       "      <th>High Production</th>\n",
       "    </tr>\n",
       "  </thead>\n",
       "  <tbody>\n",
       "    <tr>\n",
       "      <th>15</th>\n",
       "      <td>10016-20-3</td>\n",
       "      <td>.alpha.-cyclodextrin</td>\n",
       "      <td>NaN</td>\n",
       "      <td>1000000.0</td>\n",
       "    </tr>\n",
       "    <tr>\n",
       "      <th>16</th>\n",
       "      <td>128446-33-3</td>\n",
       "      <td>.alpha.-cyclodextrin, 2-hydroxypropyl ethers</td>\n",
       "      <td>NaN</td>\n",
       "      <td>1000000.0</td>\n",
       "    </tr>\n",
       "    <tr>\n",
       "      <th>17</th>\n",
       "      <td>128446-33-3</td>\n",
       "      <td>.alpha.-cyclodextrin, 2-hydroxypropyl ethers</td>\n",
       "      <td>NaN</td>\n",
       "      <td>1000000.0</td>\n",
       "    </tr>\n",
       "    <tr>\n",
       "      <th>18</th>\n",
       "      <td>56038-13-2</td>\n",
       "      <td>.alpha.-d-galactopyranoside, 1,6-dichloro-1,6-...</td>\n",
       "      <td>25187.0</td>\n",
       "      <td>NaN</td>\n",
       "    </tr>\n",
       "    <tr>\n",
       "      <th>19</th>\n",
       "      <td>99-20-7</td>\n",
       "      <td>.alpha.-d-glucopyranoside, .alpha.-d-glucopyra...</td>\n",
       "      <td>NaN</td>\n",
       "      <td>1000000.0</td>\n",
       "    </tr>\n",
       "  </tbody>\n",
       "</table>\n",
       "</div>"
      ],
      "text/plain": [
       "            CAS                                               Name  \\\n",
       "15   10016-20-3                               .alpha.-cyclodextrin   \n",
       "16  128446-33-3       .alpha.-cyclodextrin, 2-hydroxypropyl ethers   \n",
       "17  128446-33-3       .alpha.-cyclodextrin, 2-hydroxypropyl ethers   \n",
       "18   56038-13-2  .alpha.-d-galactopyranoside, 1,6-dichloro-1,6-...   \n",
       "19      99-20-7  .alpha.-d-glucopyranoside, .alpha.-d-glucopyra...   \n",
       "\n",
       "   Low Production High Production  \n",
       "15            NaN       1000000.0  \n",
       "16            NaN       1000000.0  \n",
       "17            NaN       1000000.0  \n",
       "18        25187.0             NaN  \n",
       "19            NaN       1000000.0  "
      ]
     },
     "execution_count": 19,
     "metadata": {},
     "output_type": "execute_result"
    }
   ],
   "source": [
    "df2[[\"Low Production\", \"High Production\"]] = df2[\"Production\"].astype(dtype=str).str.split(\"<\",  expand=True)\n",
    "\n",
    "df2.loc[:,\"Low Production\"] = df2[\"Low Production\"].str.replace(\",\", \"\")\n",
    "df2.loc[:,\"Low Production\"] = df2[\"Low Production\"].str.replace(\"–\", \"\")\n",
    "df2.loc[:,\"Low Production\"] = df2[\"Low Production\"].str.replace(\"≥\", \"\")\n",
    "df2.loc[:,\"High Production\"] = df2[\"High Production\"].str.replace(\",\", \"\")\n",
    "\n",
    "df2.loc[:,\"Low Production\"]=pd.to_numeric(df2[\"Low Production\"])\n",
    "df2.loc[:,\"High Production\"]=pd.to_numeric(df2[\"High Production\"])\n",
    "\n",
    "df2=df2.drop(columns=\"Production\")\n",
    "df2[\"Name\"] = df2[\"Name\"].str.lower()\n",
    "\n",
    "df2.head()"
   ]
  },
  {
   "cell_type": "markdown",
   "metadata": {},
   "source": [
    "#### Grouping Entries\n",
    "\n",
    "This current dataframe contains multiple entries per compound because the original dataset was intended to track every manufacturer or handler of the material. Now, we group them together, taking the mean of the Low Production and High Production columns across each group. In all cases, the production range was the same for every duplicate entry of a single compound because it was intended to represent aggregate annual production, so the average does not actually change the data."
   ]
  },
  {
   "cell_type": "code",
   "execution_count": 23,
   "metadata": {},
   "outputs": [],
   "source": [
    "df3_unfiltered=df2.groupby([\"CAS\", \"Name\"]).mean()"
   ]
  },
  {
   "cell_type": "markdown",
   "metadata": {},
   "source": [
    "#### Filtering by Category\n",
    "\n",
    "Several CAS entries refer to bulk aggregate categories. Because we intend to search for synthetic routes towards pure compounds, we filter out any of these categories based on keywords manually identified from the dataset. However, we do incldue the total mass of these categories when reporting the total percent of the annual chemical production volume our dataset represents."
   ]
  },
  {
   "cell_type": "code",
   "execution_count": 25,
   "metadata": {},
   "outputs": [],
   "source": [
    "\n",
    "lst = [\"(petroleum)\", \"fuel\", \"hydrocarbons\", \"gasoline\", \"steelmaking\", \"residues\", 'slags', 'coal']\n",
    "for key in lst:\n",
    "    df2 = df2[~df2[\"Name\"].str.contains(key, case=False, regex=False)]\n",
    "\n",
    "df3 = df2.groupby([\"CAS\", \"Name\"]).mean()"
   ]
  },
  {
   "cell_type": "code",
   "execution_count": 32,
   "metadata": {},
   "outputs": [
    {
     "name": "stdout",
     "output_type": "stream",
     "text": [
      "Total Mass, unfiltered dataset:  7364039850000.0\n",
      "Total Mass, filtered dataset:  2579117250000.0\n",
      "% of mass removed:  64.97686999887704\n"
     ]
    }
   ],
   "source": [
    "print('Total Mass, unfiltered dataset: ',df3_unfiltered.sum()[\"High Production\"])\n",
    "print('Total Mass, filtered dataset: ',df3.sum()[\"High Production\"])\n",
    "print('% of mass removed: ', (df3_unfiltered.sum()[\"High Production\"]-df3.sum()[\"High Production\"])/df3_unfiltered.sum()[\"High Production\"]*100)"
   ]
  },
  {
   "cell_type": "markdown",
   "metadata": {},
   "source": [
    "#### Exporting Sorted and Filtered Data"
   ]
  },
  {
   "cell_type": "code",
   "execution_count": null,
   "metadata": {},
   "outputs": [],
   "source": [
    "df3=df3.sort_values(\"High Production\", ascending=False)\n",
    "df3.to_excel(\"../multicompound_data\\CAS_to_production_volume.xlsx\")"
   ]
  }
 ],
 "metadata": {
  "kernelspec": {
   "display_name": "Python 3",
   "language": "python",
   "name": "python3"
  },
  "language_info": {
   "codemirror_mode": {
    "name": "ipython",
    "version": 3
   },
   "file_extension": ".py",
   "mimetype": "text/x-python",
   "name": "python",
   "nbconvert_exporter": "python",
   "pygments_lexer": "ipython3",
   "version": "3.11.9"
  }
 },
 "nbformat": 4,
 "nbformat_minor": 2
}
