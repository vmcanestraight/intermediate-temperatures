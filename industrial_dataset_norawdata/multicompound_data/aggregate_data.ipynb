{
 "cells": [
  {
   "cell_type": "code",
   "execution_count": 2,
   "metadata": {},
   "outputs": [],
   "source": [
    "import pandas as pd\n",
    "import numpy as np\n",
    "import os"
   ]
  },
  {
   "cell_type": "markdown",
   "metadata": {},
   "source": [
    "# S.1.2.1 Data Aggregation\n",
    "\n",
    "1. [Combining Patents](#combining-all-patents-to-one-df)\n",
    "2. [Aggregating Data](#aggregating-data)"
   ]
  },
  {
   "cell_type": "markdown",
   "metadata": {},
   "source": [
    "#### Combining all Patents to one DF"
   ]
  },
  {
   "cell_type": "code",
   "execution_count": 3,
   "metadata": {},
   "outputs": [],
   "source": [
    "\n",
    "def list_files_in_folder(folder_path):\n",
    "    # List all files in the specified folder\n",
    "    file_names = [f for f in os.listdir(folder_path) if os.path.isfile(os.path.join(folder_path, f))]\n",
    "    return file_names\n",
    "\n",
    "\n",
    "folder_path = r'../parsed_dataframes'\n",
    "files = list_files_in_folder(folder_path)\n",
    "\n",
    "df = pd.DataFrame()\n",
    "\n",
    "for file in files:\n",
    "    df = pd.concat([df, pd.read_excel(folder_path+r\"/\"+file)], axis=0, ignore_index=True)\n",
    "df = df.drop(columns = \"Unnamed: 0\")\n",
    "\n",
    "properties_df = pd.read_excel(\"target_compound_properties.xlsx\")\n"
   ]
  },
  {
   "cell_type": "code",
   "execution_count": 4,
   "metadata": {},
   "outputs": [],
   "source": [
    "# Filtering junk entries\n",
    "df=df[df[\"temperatures_c\"]<200000]"
   ]
  },
  {
   "cell_type": "code",
   "execution_count": 5,
   "metadata": {},
   "outputs": [],
   "source": [
    "df = df.merge(properties_df, on='CAS', how='left')"
   ]
  },
  {
   "cell_type": "code",
   "execution_count": 6,
   "metadata": {},
   "outputs": [],
   "source": [
    "df[\"pressures_bar\"]=df[\"pressures_mpa\"]*10\n",
    "df = df.drop(columns = \"pressures_mpa\")\n",
    "df.to_excel(\"combined_patent_entries.xlsx\", index=False)"
   ]
  },
  {
   "cell_type": "markdown",
   "metadata": {},
   "source": [
    "#### Aggregating data"
   ]
  },
  {
   "cell_type": "code",
   "execution_count": 9,
   "metadata": {},
   "outputs": [],
   "source": [
    "# Aggregating df into groups with patent_count and average_temp\n",
    "\n",
    "ag = df.drop(columns=[\"reagants\", \"catalysts\", 'solvents']).groupby(\"CAS\").agg(\n",
    "    temp_c_avg=('temperatures_c', 'mean'),\n",
    "    temp_c_median=('temperatures_c', 'median'),\n",
    "    pressure_bar_avg=('pressures_bar', 'mean'),\n",
    "    pressure_bar_median=('pressures_bar', 'median'),\n",
    "    enthalpy_average = ('enthalpy_rxn', 'mean'),\n",
    "    entropy_average = ('entropy_rxn', 'mean'),\n",
    "    patent_count=('CAS', 'size')  # count the number of entries per group\n",
    ")\n"
   ]
  },
  {
   "cell_type": "code",
   "execution_count": 10,
   "metadata": {},
   "outputs": [],
   "source": [
    "# Adding production and chemical name data from EPA dataset\n",
    "\n",
    "pvs = pd.read_excel(\"CAS_to_production_volume.xlsx\")\n",
    "ag[\"Name\"] = pvs[pvs[\"CAS\"].isin(list(ag.index))].sort_values(\"CAS\")[\"Name\"].values\n",
    "ag[\"Production\"] = pvs[pvs[\"CAS\"].isin(list(ag.index))].sort_values(\"CAS\")[\"High Production\"].values"
   ]
  },
  {
   "cell_type": "code",
   "execution_count": 11,
   "metadata": {},
   "outputs": [],
   "source": [
    "ag[\"temp_reports\"] = pd.Series(dtype=int)\n",
    "ag[\"pressure_reports\"] = pd.Series(dtype=int)\n",
    "for cas in ag.index:\n",
    "    mini = df[df[\"CAS\"]==cas]\n",
    "    ag.loc[cas, \"temp_reports\"] = len(mini.dropna(subset=\"temperatures_c\"))\n",
    "    ag.loc[cas, \"pressure_reports\"] = len(mini.dropna(subset=\"pressures_bar\"))\n",
    "ag[\"frac_of_prod\"] = ag[\"Production\"]/np.sum(ag[\"Production\"].values)"
   ]
  },
  {
   "cell_type": "code",
   "execution_count": 12,
   "metadata": {},
   "outputs": [],
   "source": [
    "ag = ag[[\"Name\", \"Production\", \"frac_of_prod\", \"patent_count\", \"temp_reports\", \"temp_c_avg\", \"temp_c_median\",\"pressure_reports\", \"pressure_bar_avg\", \"pressure_bar_median\", 'enthalpy_average', 'entropy_average']]\n",
    "ag = ag.merge(properties_df, on='CAS', how='left')"
   ]
  },
  {
   "cell_type": "code",
   "execution_count": 13,
   "metadata": {},
   "outputs": [],
   "source": [
    "ag.to_excel(\"grouped_data.xlsx\", index=False)"
   ]
  }
 ],
 "metadata": {
  "kernelspec": {
   "display_name": "Python 3",
   "language": "python",
   "name": "python3"
  },
  "language_info": {
   "codemirror_mode": {
    "name": "ipython",
    "version": 3
   },
   "file_extension": ".py",
   "mimetype": "text/x-python",
   "name": "python",
   "nbconvert_exporter": "python",
   "pygments_lexer": "ipython3",
   "version": "3.11.9"
  }
 },
 "nbformat": 4,
 "nbformat_minor": 2
}
